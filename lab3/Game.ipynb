{
 "cells": [
  {
   "cell_type": "code",
   "execution_count": 38,
   "metadata": {},
   "outputs": [],
   "source": [
    "import numpy as np\n",
    "import random\n",
    "import itertools"
   ]
  },
  {
   "cell_type": "code",
   "execution_count": 113,
   "metadata": {},
   "outputs": [],
   "source": [
    "# function to print a 2-D board\n",
    "def printA(A):\n",
    "    n = len(A)\n",
    "    # m = len(A[0])\n",
    "    for i in range(n):\n",
    "        print(A[i])\n",
    "    print()\n",
    "\n",
    "class Board:\n",
    "    B = None #board\n",
    "    H = None #hint\n",
    "    n, m, nmine = None, None, None\n",
    "    mask = None\n",
    "    \n",
    "    #@staticmethod\n",
    "    def inrange(self, i, j):\n",
    "        # print(i, j)\n",
    "        return i >= 0 and i < self.n and j >= 0 and j < self.m\n",
    "    \n",
    "    def __init__(self, n, m, nmine): # return a list of starting hints\n",
    "        self.n = n\n",
    "        self.m = m\n",
    "        self.nmine = nmine\n",
    "        all_coordinate = [(i, j) for j in range(self.m) for i in range(self.n)]\n",
    "        # print(all_coordinate)\n",
    "        mine_pos = random.sample(all_coordinate, nmine)\n",
    "        self.B = [[0]*self.m for i in range(self.n)]\n",
    "        self.H = [[0]*self.m for i in range(self.n)]\n",
    "        for p in mine_pos:\n",
    "            self.B[p[0]][p[1]] = 1\n",
    "        #printA(self.B)\n",
    "        for i, j in itertools.product(range(self.n), range(self.m)):\n",
    "            if(self.B[i][j] == 1):\n",
    "                continue\n",
    "            for dx, dy in itertools.product(range(-1,2,1), range(-1,2,1)):\n",
    "                if(not (dx==0 and dy==0) and self.inrange(i+dx, j+dy)):\n",
    "                    self.H[i][j] += self.B[i+dx][j+dy]\n",
    "        #printA(self.H)\n",
    "        return\n",
    "            \n",
    "    def get_start(self, nstart):\n",
    "        # get starting hints\n",
    "        hint_coordinate = list(filter(lambda x: self.B[x[0]][x[1]]==0 ,[(i, j) for j in range(self.m) for i in range(self.n)]))\n",
    "        # printA(self.B)\n",
    "        # print(hint_coordinate)\n",
    "        start_pos = random.sample(hint_coordinate, nstart)\n",
    "        start = [[-1]*self.m for i in range(self.n)]\n",
    "        for p in start_pos:\n",
    "            start[p[0]][p[1]] = self.H[p[0]][p[1]]\n",
    "        return start\n",
    "        \n",
    "        \n",
    "    def q(i, j): #return -1 if is mine, return number if is hint\n",
    "        return -1 if self.B[i][j] == 1 else self.H[i][j]\n",
    "    "
   ]
  },
  {
   "cell_type": "code",
   "execution_count": 114,
   "metadata": {},
   "outputs": [
    {
     "name": "stdout",
     "output_type": "stream",
     "text": [
      "[2, -1, -1]\n",
      "[-1, -1, 2]\n",
      "[-1, 4, -1]\n",
      "\n"
     ]
    }
   ],
   "source": [
    "b = Board(3, 3, 4)\n",
    "#b.get_start(3)\n",
    "printA(b.get_start(3))"
   ]
  },
  {
   "cell_type": "code",
   "execution_count": 116,
   "metadata": {},
   "outputs": [],
   "source": [
    "class LogicAgent:\n",
    "    KB = [] # set\n",
    "    KB0 = [] # ground truth, decided \n",
    "    def __init__(init_hint):\n",
    "        pass\n",
    "    def play():\n",
    "        pass\n",
    "    def inference():\n",
    "        pass\n",
    "    def solve():\n",
    "        pass\n",
    "        \n",
    "        "
   ]
  }
 ],
 "metadata": {
  "kernelspec": {
   "display_name": "Python 3",
   "language": "python",
   "name": "python3"
  },
  "language_info": {
   "codemirror_mode": {
    "name": "ipython",
    "version": 3
   },
   "file_extension": ".py",
   "mimetype": "text/x-python",
   "name": "python",
   "nbconvert_exporter": "python",
   "pygments_lexer": "ipython3",
   "version": "3.7.4"
  }
 },
 "nbformat": 4,
 "nbformat_minor": 2
}
