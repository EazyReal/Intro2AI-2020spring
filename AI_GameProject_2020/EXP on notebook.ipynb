{
 "cells": [
  {
   "cell_type": "code",
   "execution_count": 25,
   "metadata": {},
   "outputs": [],
   "source": [
    "#!/usr/bin/env python\n",
    "# coding: utf-8\n",
    "# author: Yan-Tong Lin\n",
    "\n",
    "import numpy as np\n",
    "from collections import defaultdict\n",
    "import networkx as nx\n",
    "import time\n",
    "import subprocess\n",
    "from subprocess import Popen, PIPE, STDOUT, run\n",
    "import  matplotlib.pyplot as plt"
   ]
  },
  {
   "cell_type": "code",
   "execution_count": 26,
   "metadata": {},
   "outputs": [],
   "source": [
    "exe_file_name = \"AI_game.exe\"\n",
    "exe_cmd = \"./\" + exe_file_name\n",
    "player1 = \"41\\n./mcts_agent/win.exe\\n\"\n",
    "player2 = \"1\\n./Sample1.exe\\n\"\n",
    "std_in = bytes(player1 + player2 + \"\\n\", encoding='utf-8')"
   ]
  },
  {
   "cell_type": "code",
   "execution_count": 27,
   "metadata": {},
   "outputs": [],
   "source": [
    "def run1():\n",
    "    p = run([exe_cmd], stdout=PIPE, input= std_in ) #, encoding='utf-8'\n",
    "    print(p.stdout)\n",
    "    print(p.stderr)\n",
    "    #ans, t= map(int,p.stdout.split())\n",
    "    #return ans, t\n",
    "    return p.stdout, p.stderr"
   ]
  },
  {
   "cell_type": "code",
   "execution_count": 28,
   "metadata": {},
   "outputs": [
    {
     "name": "stdout",
     "output_type": "stream",
     "text": [
      "b'input Team1 teamnumber(int): input Path to Team1exe(example: C:\\\\yourpath\\\\Team_number.exe): input Team2 teamnumber(int): input Path to Team2exe(example: C:\\\\yourpath\\\\Team_number.exe): '\n",
      "None\n"
     ]
    }
   ],
   "source": [
    "a, b = run1()"
   ]
  },
  {
   "cell_type": "code",
   "execution_count": 29,
   "metadata": {},
   "outputs": [
    {
     "data": {
      "text/plain": [
       "b'input Team1 teamnumber(int): input Path to Team1exe(example: C:\\\\yourpath\\\\Team_number.exe): input Team2 teamnumber(int): input Path to Team2exe(example: C:\\\\yourpath\\\\Team_number.exe): '"
      ]
     },
     "execution_count": 29,
     "metadata": {},
     "output_type": "execute_result"
    }
   ],
   "source": [
    "a"
   ]
  },
  {
   "cell_type": "code",
   "execution_count": 30,
   "metadata": {},
   "outputs": [],
   "source": [
    "b"
   ]
  },
  {
   "cell_type": "code",
   "execution_count": null,
   "metadata": {},
   "outputs": [],
   "source": []
  }
 ],
 "metadata": {
  "kernelspec": {
   "display_name": "Python 3",
   "language": "python",
   "name": "python3"
  },
  "language_info": {
   "codemirror_mode": {
    "name": "ipython",
    "version": 3
   },
   "file_extension": ".py",
   "mimetype": "text/x-python",
   "name": "python",
   "nbconvert_exporter": "python",
   "pygments_lexer": "ipython3",
   "version": "3.7.0"
  }
 },
 "nbformat": 4,
 "nbformat_minor": 2
}
