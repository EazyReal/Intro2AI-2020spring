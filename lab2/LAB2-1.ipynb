{
 "cells": [
  {
   "cell_type": "code",
   "execution_count": 1,
   "metadata": {},
   "outputs": [],
   "source": [
    "import os\n",
    "import numpy as np\n",
    "from copy import deepcopy\n",
    "from time import time \n",
    "from colored import fg, bg, attr"
   ]
  },
  {
   "cell_type": "code",
   "execution_count": 2,
   "metadata": {},
   "outputs": [],
   "source": [
    "# macro\n",
    "UNKNOWN = -1\n",
    "CONSTRAINT = -2\n",
    "ASSIGNED = 1\n",
    "NOMINE = 0\n",
    "MINE = 1\n",
    "FAIL_MSG = \"leave reached but WA\""
   ]
  },
  {
   "cell_type": "code",
   "execution_count": 3,
   "metadata": {},
   "outputs": [],
   "source": [
    "#here stores hyper params\n",
    "TIMELIMIT = 3 #second\n",
    "\n",
    "FORWARD = True\n",
    "# in which order should we explore variables\n",
    "# MRV, domain smaller\n",
    "# DEG, vertex that affect more points\n",
    "MRV = True\n",
    "DEG = True\n",
    "# limitation added if assign this value to the variable\n",
    "LCV = True\n",
    "GLOBALH = False\n",
    "# If a variable can not be assign, do not need to try sidlings\n",
    "CUTA = True"
   ]
  },
  {
   "cell_type": "code",
   "execution_count": 4,
   "metadata": {},
   "outputs": [],
   "source": [
    "#board related\n",
    "\n",
    "#board size\n",
    "n = 0\n",
    "m = 0\n",
    "#number of mines\n",
    "n_mine = 0\n",
    "#maps\n",
    "C = list() #constraint value\n",
    "A = list() #ans\n",
    "\n",
    "# dx, dy can use for loop 3*3 - 0,0"
   ]
  },
  {
   "cell_type": "code",
   "execution_count": 5,
   "metadata": {},
   "outputs": [],
   "source": [
    "def inrange(i, j):\n",
    "    global n, m\n",
    "    #if(((i >= 0) and (i < n) and (j >= 0) and (j < m))):\n",
    "    #     print(i, j)\n",
    "    return ((i >= 0) and (i < n) and (j >= 0) and (j < m))\n",
    "\n",
    "def printA(A):\n",
    "    global n, m\n",
    "    for i in range(n):\n",
    "        for j in range(m):\n",
    "            print(str(A[i][j]), end = \" \")\n",
    "        print()"
   ]
  },
  {
   "cell_type": "code",
   "execution_count": 25,
   "metadata": {},
   "outputs": [],
   "source": [
    "#input the problem\n",
    "# 6 6 10 -1 -1 -1 1 1 -1 -1 3 -1 -1 -1 0 2 3 -1 3 3 2 -1 -1 2 -1 -1 -1 -1 2 2 3 -1 3 -1 1 -1 -1 -1 1\n",
    "test_data = [\n",
    "    \"4 4 5 2 -1 -1 2 -1 3 3 -1 2 2 2 1 -1 -1 -1 0\",\n",
    "    \"6 6 10 -1 -1 -1 1 1 -1 -1 3 -1 -1 -1 0 2 3 -1 3 3 2 -1 -1 2 -1 -1 -1 -1 2 2 3 -1 3 -1 1 -1 -1 -1 1\",\n",
    "    \"6 6 10 -1 -1 -1 1 1 1 3 4 -1 2 -1 -1 2 -1 -1 -1 -1 -1 -1 -1 2 2 -1 2 1 2 -1 -1 1 -1 -1 1 -1 1 0 -1\",\n",
    "    \"6 6 10 -1 -1 -1 -1 -1 -1 -1 2 2 2 3 -1 -1 2 0 0 2 -1 -1 2 0 0 2 -1 -1 3 2 2 2 -1 -1 -1 -1 -1 -1 -1\",\n",
    "    \"6 6 10 -1 1 -1 1 1 -1 2 2 3 -1 -1 1 -1 -1 5 -1 5 -1 2 -1 5 -1 -1 -1 -1 2 -1 -1 3 -1 -1 -1 1 1 -1 0\",\n",
    "    \"10 10 23 -1 1 -1 0 -1 -1 0 1 -1 1 1 -1 -1 -1 -1 -1 1 -1 1 1 0 0 -1 2 -1 -1 1 1 1 1 1 1 -1 -1 -1 -1 1 2 -1 3 2 -1 4 -1 -1 -1 1 -1 -1 -1 -1 -1 4 -1 5 -1 -1 2 3 -1 -1 -1 2 -1 -1 -1 2 -1 1 1 -1 2 1 3 -1 5 2 0 -1 0 -1 -1 1 2 -1 -1 2 1 -1 0 -1 1 1 1 -1 2 2 -1 -1 0\",\n",
    "\"10 10 24 -1 1 -1 2 -1 2 -1 2 2 1 0 1 -1 3 -1 -1 -1 -1 4 -1 -1 1 1 2 -1 -1 -1 -1 -1 2 -1 1 -1 4 4 3 2 -1 -1 -1 0 -1 4 -1 -1 -1 1 -1 0 0 0 1 -1 -1 -1 4 3 3 -1 1 -1 2 -1 3 -1 3 -1 -1 -1 1 1 -1 1 -1 -1 -1 4 -1 3 1 -1 -1 2 1 2 -1 3 -1 -1 0 -1 2 -1 1 1 -1 2 1 -1 0\"\n",
    "]"
   ]
  },
  {
   "cell_type": "code",
   "execution_count": 7,
   "metadata": {},
   "outputs": [],
   "source": [
    "class Node:\n",
    "    def __init__(self, remain=None, UB=None, LB=None, VAR=None, DOM=None):\n",
    "        #2D list\n",
    "        self.remain = None\n",
    "        self.TYPE = None\n",
    "        self.VAL = None\n",
    "        self.DOM = None\n",
    "    \n",
    "    # forward calculations\n",
    "    # will calclulate UpperBound and LowerBound and change Domain\n",
    "    def forward_domain(self):\n",
    "        newDOM = [[[] for j in range(m)] for i in range(n)]\n",
    "        takemin = [[False for j in range(m)] for i in range(n)]\n",
    "        takemax = [[False for j in range(m)] for i in range(n)]\n",
    "        cnt = 0\n",
    "        for x in range(n):\n",
    "            for y in range(m):\n",
    "                if(self.TYPE[x][y] == UNKNOWN):\n",
    "                    cnt += 1\n",
    "                if(self.TYPE[x][y] == CONSTRAINT):\n",
    "                    lb = 0\n",
    "                    rb = 0\n",
    "                    for dx in range(-1, 2, 1):\n",
    "                        for dy in range(-1, 2, 1):\n",
    "                            nx, ny = x + dx, y + dy\n",
    "                            if((dx == 0 and dy == 0) or not inrange(nx,ny)):\n",
    "                                continue\n",
    "                            if (self.TYPE[nx][ny] == UNKNOWN):\n",
    "                                if(len(self.DOM[nx][ny]) == 0):\n",
    "                                    #print(\"should not print this\")\n",
    "                                    return False\n",
    "                                lb += min(self.DOM[nx][ny])\n",
    "                                rb += max(self.DOM[nx][ny])\n",
    "                            if (self.TYPE[nx][ny] == ASSIGNED):\n",
    "                                lb += self.VAL[nx][ny]\n",
    "                                rb += self.VAL[nx][ny]\n",
    "                    if(lb > C[x][y] or rb < C[x][y]):\n",
    "                        #print(\"bound error@\" + str(x) + \" \" + str(y))\n",
    "                        #printA(self.TYPE)\n",
    "                        #printA(self.VAL)\n",
    "                        #print(C[x][y], lb, rb)\n",
    "                        return False\n",
    "                    if(lb == C[x][y]):\n",
    "                        for dx in range(-1, 2, 1):\n",
    "                            for dy in range(-1, 2, 1):\n",
    "                                nx, ny = x + dx, y + dy\n",
    "                                if((dx == 0 and dy == 0) or not inrange(nx,ny)):\n",
    "                                    continue\n",
    "                                if(self.TYPE[nx][ny] == UNKNOWN):\n",
    "                                    takemin[nx][ny] = True\n",
    "                    if(rb == C[x][y]):\n",
    "                        for dx in range(-1, 2, 1):\n",
    "                            for dy in range(-1, 2, 1):\n",
    "                                nx, ny = x + dx, y + dy\n",
    "                                if((dx == 0 and dy == 0) or not inrange(nx,ny)):\n",
    "                                    continue\n",
    "                                if (self.TYPE[nx][ny] == UNKNOWN):\n",
    "                                    takemax[nx][ny] = True\n",
    "        for i in range(n):\n",
    "            for j in range(m):\n",
    "                if(self.TYPE[i][j] == UNKNOWN and len(self.DOM[i][j]) == 2):\n",
    "                    if(takemin[i][j] and takemax[i][j]):\n",
    "                        return False\n",
    "                    elif(takemin[i][j]):\n",
    "                        self.DOM[i][j] = [min(self.DOM[i][j])]\n",
    "                    elif(takemax[i][j]):\n",
    "                        self.DOM[i][j] = [max(self.DOM[i][j])]\n",
    "                    else:\n",
    "                        pass\n",
    "        if(self.remain > cnt or self.remain < 0):\n",
    "            return False\n",
    "        return True\n",
    "        \n",
    "        \n",
    "    # use UB-LB or can use DOM len\n",
    "    def calc_LCV(self, x, y):\n",
    "        ret = 2\n",
    "        for dx in range(-2, 3, 1):\n",
    "            for dy in range(-2, 3, 1):\n",
    "                nx, ny = x + dx, y + dy\n",
    "                if((not (dx == 0 and dy == 0)) and inrange(nx,ny) and self.TYPE[nx][ny] == UNKNOWN):\n",
    "                    ret = min(ret, len(self.DOM[nx][ny]))\n",
    "        return ret\n",
    "    \n",
    "    # return - size of domain, because we want heuristic to be bigger => better\n",
    "    def calc_MRV(self, x, y):\n",
    "        return -len(self.DOM[x][y])\n",
    "    \n",
    "    #how many (valuabe) constraint are besides it\n",
    "    def calc_DEG(self, x, y):\n",
    "        ret = 0\n",
    "        for dx in range(-1, 2, 1):\n",
    "            for dy in range(-1, 2, 1):\n",
    "                nx, ny = x + dx, y + dy\n",
    "                if((not (dx == 0 and dy == 0)) and inrange(nx,ny) and self.TYPE[nx][ny] == CONSTRAINT):\n",
    "                    ret += 1\n",
    "        return ret\n",
    "    \n",
    "    def check_AC(self):\n",
    "        if(self.remain != 0): # bug, mistype == 0\n",
    "            return False\n",
    "        for i in range(n):\n",
    "            for j in range(m):\n",
    "                if(self.TYPE[i][j] == UNKNOWN):\n",
    "                    return False\n",
    "                if(self.TYPE[i][j] == CONSTRAINT):\n",
    "                    cnt = 0\n",
    "                    for dx in range(-1, 2, 1):\n",
    "                        for dy in range(-1, 2, 1):\n",
    "                            nx, ny = i + dx, j + dy\n",
    "                            if((not (dx == 0 and dy == 0)) and inrange(nx,ny) and self.TYPE[nx][ny] == ASSIGNED):\n",
    "                                cnt += self.VAL[nx][ny]\n",
    "                    if cnt != C[i][j]:\n",
    "                        return False\n",
    "        return True\n",
    "    \n",
    "    # return a Node with value updated after assign\n",
    "    def assign(self, xy, val):\n",
    "        x, y = xy\n",
    "        ret = deepcopy(self)\n",
    "        ret.remain -= val\n",
    "        ret.TYPE[x][y] = ASSIGNED\n",
    "        ret.VAL[x][y] = val\n",
    "        return ret"
   ]
  },
  {
   "cell_type": "code",
   "execution_count": 8,
   "metadata": {},
   "outputs": [],
   "source": [
    "def solve(id = 0, input_tc=None):\n",
    "    global n, m, n_mine, C, A\n",
    "    # input\n",
    "    if id == -1:\n",
    "        all_input = list(map(int,input_tc.strip().split()))\n",
    "    else:\n",
    "        all_input = list(map(int,test_data[id].strip().split()))\n",
    "    \n",
    "    #apply input to variables\n",
    "    n, m, n_mine = all_input[:3]\n",
    "    flat_constraint = all_input[3:]\n",
    "    assert(len(flat_constraint) == n*m)\n",
    "    #print(n,m, len(flat_constraint))\n",
    "    C = np.asarray([ [ flat_constraint[i*n+j] for j in range(m)] for i in range(n)])\n",
    "    A = np.asarray([[ -1 if (C[i][j] == -1) else -2 for j in range(m)] for i in range(n)])\n",
    "    \n",
    "    #empty stack, init statistics\n",
    "    node_popped = 0\n",
    "    node_pushed = 0\n",
    "    node_cut = 0\n",
    "    start_t = time()\n",
    "    time_elasped = 0\n",
    "    fail_leaf = 0\n",
    "    solution = None\n",
    "    \n",
    "    stack = list()\n",
    "    init_node = Node()\n",
    "    init_node.remain = n_mine\n",
    "    init_node.TYPE = [[ UNKNOWN if (C[i][j] == -1) else CONSTRAINT for j in range(m)] for i in range(n)]\n",
    "    init_node.VAL = [[ None for j in range(m)] for i in range(n)]\n",
    "    init_node.DOM = [[[MINE, NOMINE] for j in range(m)] for i in range(n)]\n",
    "    \n",
    "    if(FORWARD and not init_node.forward_domain()):\n",
    "        return None\n",
    "    stack.append(init_node)\n",
    "    node_pushed += 1\n",
    "    \n",
    "    while(len(stack) != 0):\n",
    "        cur = stack[-1]\n",
    "        stack.pop(-1)\n",
    "        node_popped += 1\n",
    "        \n",
    "        # debug msg\n",
    "        if(node_popped % 100 == 0):\n",
    "            #print(\"Node pushed\", node_pushed)\n",
    "            #print(\"Node popped\", node_popped)\n",
    "            #printA(cur.VAL)\n",
    "            time_passed = time() - start_t\n",
    "            if( time_passed > TIMELIMIT):\n",
    "                print(\"TLE with time limit {}\".format(TIMELIMIT))\n",
    "                break\n",
    "        \n",
    "        ## add variable todo\n",
    "        todo = []\n",
    "        for i in range(n):\n",
    "            for j in range(m):\n",
    "                if(cur.TYPE[i][j] == UNKNOWN):\n",
    "                    mrv = cur.calc_MRV(i, j) if MRV else 0\n",
    "                    deg = cur.calc_DEG(i, j) if DEG else 0\n",
    "                    todo.append((mrv, deg, (i,j)))\n",
    "        \n",
    "        # done assignment\n",
    "        if(len(todo) == 0):\n",
    "            if(not cur.check_AC()): \n",
    "                print(FAIL_MSG)\n",
    "                fail_leaf += 1\n",
    "                continue\n",
    "            else:\n",
    "                solution = cur\n",
    "                break\n",
    "        \n",
    "        # Start Assignments by heuristic, first MVC, then DEG\n",
    "        #todo.sort(reverse=True)\n",
    "        todo.sort(reverse=False)\n",
    "        #False with MRV DEG is quicker =>\n",
    "        #desireto too see negative MRV nigger first and degree bigger first\n",
    "        topush = []\n",
    "        FAILA = False\n",
    "        for mcv_h, deg_h, (nx, ny) in todo:\n",
    "            # LCV heuristic\n",
    "            # the one with greater dimension of freedom explore first\n",
    "            nxt = []\n",
    "            for val in cur.DOM[nx][ny]: # 0, 1\n",
    "                nxti = cur.assign((nx, ny), val)\n",
    "                flag = nxti.forward_domain()\n",
    "                if(FORWARD and not flag):\n",
    "                    node_cut += 1*pow(2, len(todo)-1)\n",
    "                    continue\n",
    "                if(LCV):\n",
    "                     h = nxti.calc_LCV(nx, ny) # constant of 25cells\n",
    "                elif(GLOBALH):\n",
    "                     h = int((val == MINE and len(todo)/2 < cur.remain) or (val == NOMINE and len(todo)/2 >= cur.remain) )\n",
    "                else :\n",
    "                    h = 0\n",
    "                node_pushed += 1\n",
    "                nxt.append((nxti, h))\n",
    "                \n",
    "            if(CUTA):\n",
    "                if(len(nxt) == 0):\n",
    "                    FAILA = True\n",
    "                    #printA(cur.DOM)\n",
    "                    #print(nx, ny)\n",
    "                    break\n",
    "            #nxt.sort(key=lambda x :x[1], reverse=True) # try smaller LSV, earlier pop\n",
    "            nxt.sort(key=lambda x :x[1], reverse=False) # bigger LCV, later insertion, earlier exlporation\n",
    "            for nxtnode, h_ in nxt:\n",
    "                topush.append(nxtnode)\n",
    "        \n",
    "        if(CUTA and FAILA):\n",
    "            node_pushed -= len(topush)\n",
    "            node_cut += len(topush)*pow(2,len(todo)-1)\n",
    "            continue\n",
    "        else:\n",
    "            stack.extend(topush)\n",
    "\n",
    "    #end of CSP solver\n",
    "    end_t = time()\n",
    "    time_elasped = end_t - start_t\n",
    "\n",
    "    #print(solution.VAR)\n",
    "    #if(time_elasped >= TIMELIMIT):\n",
    "    #    return None, 1000, 1000, 0, TIMELIMIT\n",
    "    return solution, node_pushed, node_popped, node_cut, time_elasped\n",
    "\n",
    "    "
   ]
  },
  {
   "cell_type": "code",
   "execution_count": 9,
   "metadata": {},
   "outputs": [],
   "source": [
    "def print_statistics(ANS, node_pushed, node_popped, node_cut, time_elasped):\n",
    "    global n, m,A, C\n",
    "    print(\"Node pushed\", node_pushed)\n",
    "    print(\"Node popped\", node_popped)\n",
    "    print(\"time elasped\", time_elasped)\n",
    "    print(\"Node cut\", node_cut)\n",
    "    printA(C)\n",
    "    print()\n",
    "\n",
    "    if(time_elasped < TIMELIMIT):\n",
    "        # combine rule and result\n",
    "        final_board = [\n",
    "            [ str(C[i][j]) if A[i][j]==-2 else \".x\"[ANS.VAL[i][j]] for j in range(m)] for i in range(n)\n",
    "        ]\n",
    "\n",
    "        # print with color \n",
    "        for i in range(n):\n",
    "            for j in range(m):\n",
    "                print(\"%s\"%(fg(1)) if A[i][j] != -2 else \"\", final_board[i][j], \"%s\"%(attr(0))if A[i][j] != -2 else \"\", end=' ')\n",
    "            print()\n"
   ]
  },
  {
   "cell_type": "code",
   "execution_count": 10,
   "metadata": {},
   "outputs": [
    {
     "name": "stdout",
     "output_type": "stream",
     "text": [
      "Node pushed 387\n",
      "Node popped 23\n",
      "time elasped 0.1811368465423584\n",
      "Node cut 2638176\n",
      "-1 -1 -1 -1 -1 -1 \n",
      "-1 2 2 2 3 -1 \n",
      "-1 2 0 0 2 -1 \n",
      "-1 2 0 0 2 -1 \n",
      "-1 3 2 2 2 -1 \n",
      "-1 -1 -1 -1 -1 -1 \n",
      "\n",
      "\u001b[38;5;1m . \u001b[0m \u001b[38;5;1m . \u001b[0m \u001b[38;5;1m x \u001b[0m \u001b[38;5;1m x \u001b[0m \u001b[38;5;1m . \u001b[0m \u001b[38;5;1m . \u001b[0m \n",
      "\u001b[38;5;1m x \u001b[0m  2   2   2   3  \u001b[38;5;1m x \u001b[0m \n",
      "\u001b[38;5;1m . \u001b[0m  2   0   0   2  \u001b[38;5;1m x \u001b[0m \n",
      "\u001b[38;5;1m x \u001b[0m  2   0   0   2  \u001b[38;5;1m . \u001b[0m \n",
      "\u001b[38;5;1m x \u001b[0m  3   2   2   2  \u001b[38;5;1m x \u001b[0m \n",
      "\u001b[38;5;1m . \u001b[0m \u001b[38;5;1m . \u001b[0m \u001b[38;5;1m x \u001b[0m \u001b[38;5;1m x \u001b[0m \u001b[38;5;1m . \u001b[0m \u001b[38;5;1m . \u001b[0m \n"
     ]
    }
   ],
   "source": [
    "solution, node_pushed, node_popped, node_cut, time_elasped  = solve(3)\n",
    "print_statistics(solution, node_pushed, node_popped, node_cut, time_elasped)"
   ]
  },
  {
   "cell_type": "code",
   "execution_count": 11,
   "metadata": {},
   "outputs": [],
   "source": [
    "tests = [\n",
    "    [6, 6, 10, 100],\n",
    "    [6, 6, 20, 100],\n",
    "    [6, 6, 30, 100],\n",
    "    [10, 10, 40, 100],\n",
    "    [10, 10, 50, 100],\n",
    "]\n",
    "\n",
    "def get_file_name(wrapper):\n",
    "    n, m, v, tcn = wrapper\n",
    "    return \"testcase_{}_{}_{}_{}.txt\".format(n,m,v,tcn), \"stat_{}_{}_{}_{}.txt\".format(n,m,v,tcn)"
   ]
  },
  {
   "cell_type": "code",
   "execution_count": 12,
   "metadata": {},
   "outputs": [],
   "source": [
    "#get_file_name(tests[0])"
   ]
  },
  {
   "cell_type": "code",
   "execution_count": 13,
   "metadata": {},
   "outputs": [],
   "source": [
    "def exp(wrapper):\n",
    "    n, m, v, tcn = wrapper\n",
    "    inf, outf = get_file_name(wrapper)\n",
    "    attr = [\"popped\", \"pushed\", \"cut\", \"time_elasped\"]\n",
    "    stat = {}\n",
    "    for s in attr:\n",
    "        stat[s] = []\n",
    "    with open(inf, \"r\") as fo:\n",
    "        tcs = fo.readlines()\n",
    "        #print(tcs[0])\n",
    "        for i in range(tcn):\n",
    "            solution, node_pushed, node_popped, node_cut, time_elasped  = solve(-1, tcs[i])\n",
    "            stat[\"pushed\"].append(node_pushed)\n",
    "            stat[\"popped\"].append(node_popped)\n",
    "            stat[\"cut\"].append(node_cut)\n",
    "            stat[\"time_elasped\"].append(time_elasped)\n",
    "            #print_statistics(solution, node_pushed, node_popped, time_elasped)\n",
    "    for s in attr:\n",
    "        stat[s].sort\n",
    "    with open(outf, \"w\") as fo:\n",
    "        for s in attr:\n",
    "            fo.write(\"Max_{}: {}\\n\".format(s, sum(stat[s])/tcn))\n",
    "            fo.write(\"MID_{}: {}\\n\".format(s, stat[s][tcn//2]))\n",
    "            fo.write(\"AVG_{}: {}\\n\".format(s, stat[s][-1]))\n",
    "            print(\"AVG_{}: {}\".format(s, sum(stat[s])/tcn))\n",
    "            print(\"MID_{}: {}\".format(s, stat[s][tcn//2]))\n",
    "            print(\"MAX_{}: {}\".format(s, stat[s][-1]))"
   ]
  },
  {
   "cell_type": "code",
   "execution_count": 14,
   "metadata": {},
   "outputs": [],
   "source": [
    "#exp(tests[0])"
   ]
  },
  {
   "cell_type": "code",
   "execution_count": 15,
   "metadata": {},
   "outputs": [],
   "source": [
    "#for test in tests:\n",
    "#    exp(test)"
   ]
  },
  {
   "cell_type": "code",
   "execution_count": 20,
   "metadata": {},
   "outputs": [],
   "source": [
    "#here stores hyper params\n",
    "TIMELIMIT = 3 #second\n",
    "\n",
    "FORWARD = True\n",
    "# in which order should we explore variables\n",
    "# MRV, domain smaller\n",
    "# DEG, vertex that affect more points\n",
    "MRV = 1\n",
    "DEG = 0\n",
    "# limitation added if assign this value to the variable\n",
    "LCV = 0\n",
    "GLOBALH = 0\n",
    "# If a variable can not be assign, do not need to try sidlings\n",
    "CUTA = 0"
   ]
  },
  {
   "cell_type": "code",
   "execution_count": 21,
   "metadata": {},
   "outputs": [
    {
     "name": "stdout",
     "output_type": "stream",
     "text": [
      "TLE with time limit 3\n",
      "TLE with time limit 3\n",
      "AVG_popped: 42.03\n",
      "MID_popped: 19\n",
      "MAX_popped: 19\n",
      "AVG_pushed: 247.48\n",
      "MID_pushed: 223\n",
      "MAX_pushed: 222\n",
      "AVG_cut: 890175.08\n",
      "MID_cut: 1081344\n",
      "MAX_cut: 786432\n",
      "AVG_time_elasped: 0.17778563022613525\n",
      "MID_time_elasped: 0.11652898788452148\n",
      "MAX_time_elasped: 0.1079251766204834\n"
     ]
    }
   ],
   "source": [
    "exp([6,6,18,100])"
   ]
  },
  {
   "cell_type": "code",
   "execution_count": 26,
   "metadata": {},
   "outputs": [
    {
     "data": {
      "text/plain": [
       "(<__main__.Node at 0x1190e8390>,\n",
       " 1387,\n",
       " 51,\n",
       " 10062730417405952,\n",
       " 2.039724111557007)"
      ]
     },
     "execution_count": 26,
     "metadata": {},
     "output_type": "execute_result"
    }
   ],
   "source": [
    "solve(5)"
   ]
  },
  {
   "cell_type": "code",
   "execution_count": 27,
   "metadata": {},
   "outputs": [
    {
     "data": {
      "text/plain": [
       "(<__main__.Node at 0x10dd92110>, 466, 31, 3489660928, 2.1293320655822754)"
      ]
     },
     "execution_count": 27,
     "metadata": {},
     "output_type": "execute_result"
    }
   ],
   "source": [
    "solve(-1, \"15 15 19 0 0 1 -1 1 0 0 0 0 0 0 0 1 1 1 0 0 1 1 1 0 0 0 0 0 0 0 1 -1 1 1 1 0 0 0 0 0 0 0 0 0 0 1 1 1 -1 -1 0 0 0 1 2 2 1 0 0 0 0 0 0 1 1 -1 0 0 1 -1 -1 1 0 0 0 -1 1 1 0 0 0 1 1 2 2 2 1 0 1 1 2 -1 1 1 1 0 1 -1 1 0 0 0 0 1 -1 2 1 1 -1 -1 -1 1 1 1 1 -1 1 0 1 1 1 0 0 3 3 1 0 1 1 2 -1 2 1 1 0 -1 0 0 -1 -1 1 0 1 -1 2 1 2 -1 1 0 0 0 0 2 -1 1 0 1 1 2 1 2 1 1 0 0 0 0 -1 0 0 0 0 0 1 -1 1 0 1 1 1 1 1 0 0 0 0 0 1 2 2 1 0 1 -1 2 -1 -1 0 0 0 0 0 1 -1 1 0 0 1 1 2 -1 2 0 -1 0 0 0 1 1 1 0 0 0 0 1 1 1\")"
   ]
  },
  {
   "cell_type": "code",
   "execution_count": 28,
   "metadata": {},
   "outputs": [
    {
     "data": {
      "text/plain": [
       "(<__main__.Node at 0x119e7f710>, 1276, 51, 5629499534213120, 5.486036062240601)"
      ]
     },
     "execution_count": 28,
     "metadata": {},
     "output_type": "execute_result"
    }
   ],
   "source": [
    "solve(-1, \"15 15 26 0 -1 0 0 0 0 0 0 0 1 1 1 0 -1 -1 0 0 -1 1 1 0 -1 0 0 1 -1 1 0 0 0 1 1 1 -1 1 0 0 -1 0 1 1 1 0 0 0 -1 -1 1 2 2 1 1 1 1 0 0 0 0 0 0 1 1 0 1 -1 -1 2 -1 -1 0 0 0 0 0 0 0 -1 0 1 1 1 2 -1 -1 1 0 0 0 0 0 0 0 0 0 0 -1 1 3 -1 4 2 1 0 0 0 0 0 1 1 1 0 -1 2 -1 -1 -1 1 0 1 -1 0 1 2 -1 1 -1 0 1 2 3 2 2 2 3 -1 0 1 -1 2 1 -1 0 0 0 0 -1 2 -1 -1 2 1 2 2 1 0 -1 1 1 0 0 1 -1 3 -1 1 1 -1 -1 0 1 2 -1 -1 0 0 1 1 2 1 1 1 -1 1 0 1 -1 -1 2 1 0 0 -1 1 -1 1 0 1 2 2 2 1 2 -1 1 1 2 2 2 2 2 0 1 -1 -1 1 0 1 1 1 1 -1 -1 1 1 -1\")"
   ]
  },
  {
   "cell_type": "code",
   "execution_count": 30,
   "metadata": {},
   "outputs": [
    {
     "name": "stdout",
     "output_type": "stream",
     "text": [
      "TLE with time limit 3\n"
     ]
    },
    {
     "data": {
      "text/plain": [
       "(None, 2385, 1600, 198224, 3.0456020832061768)"
      ]
     },
     "execution_count": 30,
     "metadata": {},
     "output_type": "execute_result"
    }
   ],
   "source": [
    "solve(-1, \"6 6 19 -1 -1 -1 -1 -1 -1 -1 4 -1 -1 -1 2 -1 6 -1 6 -1 -1 -1 -1 -1 -1 -1 -1 -1 -1 -1 4 -1 -1 2 -1 -1 -1 -1 -1\")"
   ]
  },
  {
   "cell_type": "code",
   "execution_count": 31,
   "metadata": {},
   "outputs": [
    {
     "data": {
      "text/plain": [
       "(<__main__.Node at 0x10dae7150>, 211, 21, 524288, 0.41163206100463867)"
      ]
     },
     "execution_count": 31,
     "metadata": {},
     "output_type": "execute_result"
    }
   ],
   "source": [
    "solve(-1, \"10 10 8 1 2 -1 1 0 0 0 0 -1 0 1 -1 2 -1 0 0 0 0 -1 0 1 1 1 0 0 -1 0 0 0 0 -1 0 0 0 0 0 0 0 0 0 0 0 0 0 0 0 0 0 0 0 0 0 0 0 0 0 0 0 0 0 0 -1 1 1 1 0 0 0 0 0 0 1 3 -1 3 -1 -1 1 -1 0 -1 1 -1 -1 -1 1 1 -1 2 1 0 -1 2 3 2 -1 1 2 -1 1\")"
   ]
  },
  {
   "cell_type": "code",
   "execution_count": 32,
   "metadata": {},
   "outputs": [
    {
     "data": {
      "text/plain": [
       "(<__main__.Node at 0x10daeb990>, 466, 31, 4026531840, 0.8558719158172607)"
      ]
     },
     "execution_count": 32,
     "metadata": {},
     "output_type": "execute_result"
    }
   ],
   "source": [
    "solve(-1, \"10 10 18 1 -1 1 0 1 1 1 0 0 -1 2 2 1 0 2 -1 2 0 1 1 -1 -1 1 1 3 -1 -1 2 3 -1 1 1 1 -1 2 -1 -1 -1 3 -1 -1 0 1 1 -1 2 3 -1 3 2 0 0 0 0 1 -1 1 -1 1 -1 0 0 0 -1 1 2 2 2 3 3 1 -1 0 0 -1 1 -1 2 -1 -1 -1 2 0 0 0 -1 2 4 4 3 -1 2 0 0 0 0 1 -1 -1 1\")"
   ]
  },
  {
   "cell_type": "code",
   "execution_count": 33,
   "metadata": {},
   "outputs": [
    {
     "data": {
      "text/plain": [
       "(<__main__.Node at 0x11a16aa50>, 211, 21, 0, 0.9783718585968018)"
      ]
     },
     "execution_count": 33,
     "metadata": {},
     "output_type": "execute_result"
    }
   ],
   "source": [
    "solve(-1, \"15 15 12 1 1 0 0 0 0 0 0 0 0 0 0 0 0 0 -1 1 0 0 0 -1 0 0 0 0 0 0 0 0 0 1 1 0 0 0 0 0 0 0 0 0 0 0 0 0 0 0 0 0 0 0 0 0 0 -1 0 0 0 0 0 0 0 0 0 0 0 0 0 0 0 1 1 1 0 0 0 0 1 1 1 0 0 0 0 0 1 -1 1 0 0 1 1 2 -1 1 0 0 0 0 1 -1 2 1 0 0 1 -1 2 1 1 0 0 0 0 1 -1 1 0 0 0 1 1 1 0 0 0 0 1 1 2 1 1 0 0 0 0 0 0 1 1 1 0 1 -1 1 0 1 1 1 0 0 0 0 1 -1 1 0 1 1 1 0 2 -1 2 0 0 0 0 1 -1 1 0 0 0 0 0 2 -1 2 0 0 0 1 1 1 0 0 0 0 0 0 1 1 1 0 0 0 1 -1 3 2 1 0 0 0 0 0 0 0 -1 0 0 1 2 -1 -1 -1 0 0 0 0 -1 0 -1 0\")"
   ]
  },
  {
   "cell_type": "code",
   "execution_count": null,
   "metadata": {},
   "outputs": [],
   "source": []
  }
 ],
 "metadata": {
  "kernelspec": {
   "display_name": "Python 3",
   "language": "python",
   "name": "python3"
  },
  "language_info": {
   "codemirror_mode": {
    "name": "ipython",
    "version": 3
   },
   "file_extension": ".py",
   "mimetype": "text/x-python",
   "name": "python",
   "nbconvert_exporter": "python",
   "pygments_lexer": "ipython3",
   "version": "3.7.0"
  }
 },
 "nbformat": 4,
 "nbformat_minor": 2
}
