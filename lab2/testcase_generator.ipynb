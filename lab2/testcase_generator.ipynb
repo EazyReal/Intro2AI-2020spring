{
 "cells": [
  {
   "cell_type": "code",
   "execution_count": 8,
   "metadata": {},
   "outputs": [],
   "source": [
    "import os \n",
    "import numpy as np\n",
    "import random"
   ]
  },
  {
   "cell_type": "code",
   "execution_count": 9,
   "metadata": {},
   "outputs": [],
   "source": [
    "## hyper params \n",
    "#n = 6 \n",
    "#m = 6\n",
    "#nv = 10\n",
    "#nc = n*m - nv\n",
    "#n_mine = 0"
   ]
  },
  {
   "cell_type": "code",
   "execution_count": 10,
   "metadata": {},
   "outputs": [],
   "source": [
    "def gen(n, m, nv):\n",
    "    ## init all positions, etc\n",
    "    all_coordinate = []\n",
    "    for i in range(n):\n",
    "        for j in range(m):\n",
    "            all_coordinate.append((i,j))\n",
    "    nc = n*m -nv\n",
    "    n_mine = 0\n",
    "    \n",
    "    def inrange(i, j):\n",
    "        return i >= 0 and i < n and j >= 0 and j < m\n",
    "    ## pick variable positions\n",
    "    POSV = random.sample(all_coordinate, nv)\n",
    "    MARK = [[ 0 for j in range(m)] for i in range(n)]\n",
    "    for pos in POSV:\n",
    "        MARK[pos[0]][pos[1]] = 1\n",
    "    # variables\n",
    "    A = [[ random.choice([0,1]) if MARK[i][j] else -1 for j in range(m)] for i in range(n)]\n",
    "    for i in range(n):\n",
    "        for j in range(m):\n",
    "            n_mine += int(A[i][j] == 1)\n",
    "    # constraints init\n",
    "    B = [[ 0 for j in range(m)] for i in range(n)]\n",
    "    # calc constraints\n",
    "    for i in range(n):\n",
    "        for j in range(m):\n",
    "            if A[i][j] == -1:\n",
    "                for di in range(-1, 2, 1):\n",
    "                    for dj in range(-1, 2, 1):\n",
    "                        if(not (di == dj and di == 0) and inrange(i+di, j+dj)):\n",
    "                            B[i][j] += int(A[i+di][j+dj] == 1)\n",
    "    TC = [[ B[i][j] if A[i][j] == -1 else -1  for j in range(m)] for i in range(n)]\n",
    "    SAMPLE_ANS = [[ B[i][j] if A[i][j] == -1 else \"ox\"[A[i][j]]  for j in range(m)] for i in range(n)]\n",
    "    return n, m, n_mine, TC, SAMPLE_ANS\n",
    "    "
   ]
  },
  {
   "cell_type": "code",
   "execution_count": 12,
   "metadata": {},
   "outputs": [
    {
     "data": {
      "text/plain": [
       "(10,\n",
       " 10,\n",
       " 18,\n",
       " [[0, 0, 0, -1, 0, 0, -1, 0, 0, -1],\n",
       "  [0, -1, 2, 2, -1, 0, -1, 1, 1, 1],\n",
       "  [0, 1, -1, -1, 2, 0, 1, 3, -1, 3],\n",
       "  [0, 1, 4, -1, 3, 0, 1, -1, -1, -1],\n",
       "  [1, 1, 3, -1, -1, 0, 1, 2, -1, 2],\n",
       "  [1, -1, 3, -1, 3, 1, 0, 0, 0, 0],\n",
       "  [1, 2, 3, -1, -1, 1, -1, 1, 2, 1],\n",
       "  [0, 1, -1, 3, 2, 1, 1, -1, -1, -1],\n",
       "  [1, 2, 3, 3, -1, 2, 2, 2, 2, 1],\n",
       "  [1, -1, 2, -1, -1, 2, -1, 1, 0, 0]],\n",
       " [[0, 0, 0, 'o', 0, 0, 'o', 0, 0, 'o'],\n",
       "  [0, 'o', 2, 2, 'o', 0, 'o', 1, 1, 1],\n",
       "  [0, 1, 'x', 'x', 2, 0, 1, 3, 'x', 3],\n",
       "  [0, 1, 4, 'x', 3, 0, 1, 'x', 'x', 'x'],\n",
       "  [1, 1, 3, 'x', 'o', 0, 1, 2, 'o', 2],\n",
       "  [1, 'x', 3, 'o', 3, 1, 0, 0, 0, 0],\n",
       "  [1, 2, 3, 'x', 'x', 1, 'o', 1, 2, 1],\n",
       "  [0, 1, 'x', 3, 2, 1, 1, 'x', 'o', 'x'],\n",
       "  [1, 2, 3, 3, 'o', 2, 2, 2, 2, 1],\n",
       "  [1, 'x', 2, 'x', 'x', 2, 'x', 1, 0, 0]])"
      ]
     },
     "execution_count": 12,
     "metadata": {},
     "output_type": "execute_result"
    }
   ],
   "source": [
    "gen(10, 10, 30)"
   ]
  },
  {
   "cell_type": "code",
   "execution_count": 13,
   "metadata": {},
   "outputs": [],
   "source": [
    "def create_tc_file(n, m, nvar, ntc):\n",
    "    with open(\"testcase_\" + str(n) + \"_\" +  str(m) + \"_\" + str(nvar) + \"_\" + str(ntc) + \".txt\", \"w\") as fo:\n",
    "        for i in range(ntc):\n",
    "            n, m, n_mine, TC, SAMPLE_ANS = gen(m, m, nvar)\n",
    "            TC_str = str(n) + \" \" +  str(m) + \" \" + str(n_mine)\n",
    "            for i in range(n):\n",
    "                for j in range(m):\n",
    "                    TC_str += \" \" + str(TC[i][j])\n",
    "            fo.write(TC_str)\n",
    "            fo.write(\"\\n\")"
   ]
  },
  {
   "cell_type": "code",
   "execution_count": 23,
   "metadata": {},
   "outputs": [],
   "source": [
    "create_tc_file(10, 10, 20, 10)"
   ]
  },
  {
   "cell_type": "code",
   "execution_count": 32,
   "metadata": {},
   "outputs": [
    {
     "name": "stdout",
     "output_type": "stream",
     "text": [
      "15 15 12 1 1 0 0 0 0 0 0 0 0 0 0 0 0 0 -1 1 0 0 0 -1 0 0 0 0 0 0 0 0 0 1 1 0 0 0 0 0 0 0 0 0 0 0 0 0 0 0 0 0 0 0 0 0 0 -1 0 0 0 0 0 0 0 0 0 0 0 0 0 0 0 1 1 1 0 0 0 0 1 1 1 0 0 0 0 0 1 -1 1 0 0 1 1 2 -1 1 0 0 0 0 1 -1 2 1 0 0 1 -1 2 1 1 0 0 0 0 1 -1 1 0 0 0 1 1 1 0 0 0 0 1 1 2 1 1 0 0 0 0 0 0 1 1 1 0 1 -1 1 0 1 1 1 0 0 0 0 1 -1 1 0 1 1 1 0 2 -1 2 0 0 0 0 1 -1 1 0 0 0 0 0 2 -1 2 0 0 0 1 1 1 0 0 0 0 0 0 1 1 1 0 0 0 1 -1 3 2 1 0 0 0 0 0 0 0 -1 0 0 1 2 -1 -1 -1 0 0 0 0 -1 0 -1 0\n"
     ]
    }
   ],
   "source": [
    "n, m, nv = 15, 15, 20\n",
    "n, m, nv, TC, SAMPLE_ANS = gen(n, m, nv)\n",
    "TC_str = str(n) + \" \" +  str(m) + \" \" + str(nv)\n",
    "for i in range(n):\n",
    "                for j in range(m):\n",
    "                    TC_str += \" \" + str(TC[i][j])\n",
    "print(TC_str)"
   ]
  },
  {
   "cell_type": "code",
   "execution_count": null,
   "metadata": {},
   "outputs": [],
   "source": []
  },
  {
   "cell_type": "code",
   "execution_count": null,
   "metadata": {},
   "outputs": [],
   "source": []
  }
 ],
 "metadata": {
  "kernelspec": {
   "display_name": "Python 3",
   "language": "python",
   "name": "python3"
  },
  "language_info": {
   "codemirror_mode": {
    "name": "ipython",
    "version": 3
   },
   "file_extension": ".py",
   "mimetype": "text/x-python",
   "name": "python",
   "nbconvert_exporter": "python",
   "pygments_lexer": "ipython3",
   "version": "3.7.4"
  }
 },
 "nbformat": 4,
 "nbformat_minor": 2
}
